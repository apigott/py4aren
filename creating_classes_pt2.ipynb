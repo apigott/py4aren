{
 "cells": [
  {
   "cell_type": "code",
   "execution_count": 1,
   "metadata": {},
   "outputs": [],
   "source": [
    "import cvxpy as cp\n",
    "import numpy as np\n",
    "import matplotlib.pyplot as plt"
   ]
  },
  {
   "cell_type": "markdown",
   "metadata": {},
   "source": [
    "This example is intended to show how to use a class in a way that's more relevant to AREN "
   ]
  },
  {
   "cell_type": "code",
   "execution_count": 2,
   "metadata": {},
   "outputs": [],
   "source": [
    "def f2c(temp_f):\n",
    "    temp_c = (temp_f - 32) * 5 / 9\n",
    "    return temp_c\n",
    "    \n",
    "def c2f(temp_c):\n",
    "    temp_f = (temp_c - 32) * 9 / 5\n",
    "    return temp_f"
   ]
  },
  {
   "cell_type": "markdown",
   "metadata": {},
   "source": [
    "This object represents an HVAC system. It should be used in conjunction with a house model, but if you want to compare multiple hvac installations in the same house it might be useful to organize HVAC as a seperate class from House"
   ]
  },
  {
   "cell_type": "code",
   "execution_count": 3,
   "metadata": {},
   "outputs": [],
   "source": [
    "class HVAC:\n",
    "    def __init__(self, p_cooling, p_heating, seer, hspf):\n",
    "        self.pc = p_cooling\n",
    "        self.ph = p_heating\n",
    "        self.seer = seer\n",
    "        self.hspf = hspf"
   ]
  },
  {
   "cell_type": "markdown",
   "metadata": {},
   "source": [
    "Here's a house object that will update the temperature inside the hosue."
   ]
  },
  {
   "cell_type": "code",
   "execution_count": 4,
   "metadata": {},
   "outputs": [],
   "source": [
    "class House:\n",
    "    def __init__(self, hvac, wall_r, wall_c, init_temp=22, dt=1):\n",
    "        self.hvac = hvac\n",
    "        self.r = wall_r\n",
    "        self.c = wall_c\n",
    "        self.temp = init_temp\n",
    "        self.dt = dt\n",
    "        self.time = 0\n",
    "        \n",
    "    def get_current_oat(self, time):\n",
    "        return 30 + np.sin(2 * np.pi * time / (24 * self.dt))\n",
    "        \n",
    "    def update(self, action):\n",
    "        \"\"\"\n",
    "        Let the input 'action' be +1 for heating, 0 for nothing, \n",
    "        or -1 for cooling.\n",
    "        \"\"\"\n",
    "        self.time += 1\n",
    "        oat_current = self.get_current_oat(self.time)\n",
    "        p_hvac = 1000 * (np.clip(action, 0, None) * self.hvac.ph + np.clip(action, None, 0) * self.hvac.pc)\n",
    "        self.temp += (((oat_current - self.temp) / self.r) + p_hvac / 3600) / self.c * self.dt\n",
    "        return self.temp"
   ]
  },
  {
   "cell_type": "code",
   "execution_count": 5,
   "metadata": {},
   "outputs": [],
   "source": [
    "ashp = HVAC(7, 26, 14, 8.2) # an airsource heatpump\n",
    "myhome = House(ashp, 7.5, 5)"
   ]
  },
  {
   "cell_type": "code",
   "execution_count": 6,
   "metadata": {},
   "outputs": [],
   "source": [
    "t_in = []\n",
    "actions = [] \n",
    "for _ in range(5):\n",
    "    action = np.random.randint(-1,1)\n",
    "    t_in += [myhome.update(action)]\n",
    "    actions += [action]"
   ]
  },
  {
   "cell_type": "code",
   "execution_count": 7,
   "metadata": {},
   "outputs": [
    {
     "data": {
      "text/plain": [
       "[<matplotlib.lines.Line2D at 0x20a0ed848b0>]"
      ]
     },
     "execution_count": 7,
     "metadata": {},
     "output_type": "execute_result"
    },
    {
     "data": {
      "image/png": "[encoded data removed]",
      "text/plain": [
       "<Figure size 432x288 with 2 Axes>"
      ]
     },
     "metadata": {
      "needs_background": "light"
     },
     "output_type": "display_data"
    }
   ],
   "source": [
    "fig, ax = plt.subplots(2)\n",
    "ax[0].plot(t_in)\n",
    "ax[1].plot(actions)"
   ]
  },
  {
   "cell_type": "code",
   "execution_count": null,
   "metadata": {},
   "outputs": [],
   "source": []
  }
 ],
 "metadata": {
  "kernelspec": {
   "display_name": "dragg",
   "language": "python",
   "name": "dragg"
  },
  "language_info": {
   "codemirror_mode": {
    "name": "ipython",
    "version": 3
   },
   "file_extension": ".py",
   "mimetype": "text/x-python",
   "name": "python",
   "nbconvert_exporter": "python",
   "pygments_lexer": "ipython3",
   "version": "3.10.4"
  }
 },
 "nbformat": 4,
 "nbformat_minor": 4
}

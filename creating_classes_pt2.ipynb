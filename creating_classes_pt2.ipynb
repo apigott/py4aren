{
 "cells": [
  {
   "cell_type": "code",
   "execution_count": 7,
   "metadata": {},
   "outputs": [],
   "source": [
    "import cvxpy as cp\n",
    "import numpy as np\n",
    "import matplotlib.pyplot as plt"
   ]
  },
  {
   "cell_type": "markdown",
   "metadata": {},
   "source": [
    "This example is intended to show how to use a class in a way that's more relevant to AREN "
   ]
  },
  {
   "cell_type": "code",
   "execution_count": 8,
   "metadata": {},
   "outputs": [],
   "source": [
    "def f2c(temp_f):\n",
    "    temp_c = (temp_f - 32) * 5 / 9\n",
    "    return temp_c\n",
    "    \n",
    "def c2f(temp_c):\n",
    "    temp_f = (temp_c - 32) * 9 / 5\n",
    "    return temp_f"
   ]
  },
  {
   "cell_type": "markdown",
   "metadata": {},
   "source": [
    "This object represents an HVAC system. It should be used in conjunction with a house model, but if you want to compare multiple hvac installations in the same house it might be useful to organize HVAC as a seperate class from House"
   ]
  },
  {
   "cell_type": "code",
   "execution_count": 9,
   "metadata": {},
   "outputs": [],
   "source": [
    "class HVAC:\n",
    "    def __init__(self, p_cooling, p_heating, seer, hspf):\n",
    "        self.pc = p_cooling\n",
    "        self.ph = p_heating\n",
    "        self.seer = seer\n",
    "        self.hspf = hspf"
   ]
  },
  {
   "cell_type": "markdown",
   "metadata": {},
   "source": [
    "Here's a house object that will update the temperature inside the hosue."
   ]
  },
  {
   "cell_type": "code",
   "execution_count": 79,
   "metadata": {},
   "outputs": [],
   "source": [
    "class House:\n",
    "    def __init__(self, hvac, wall_r, wall_c, init_temp=22, dt=1):\n",
    "        self.hvac = hvac\n",
    "        self.r = wall_r\n",
    "        self.c = wall_c\n",
    "        self.temp = init_temp\n",
    "        self.dt = dt\n",
    "        self.time = 0\n",
    "        \n",
    "    def get_current_oat(self, time):\n",
    "        return 30 + np.sin(2 * np.pi * time / (24 * self.dt))\n",
    "        \n",
    "    def update(self, action):\n",
    "        \"\"\"\n",
    "        Let the input 'action' be +1 for heating, 0 for nothing, \n",
    "        or -1 for cooling.\n",
    "        \"\"\"\n",
    "        self.time += 1\n",
    "        oat_current = self.get_current_oat(self.time)\n",
    "        p_hvac = 1000 * (np.clip(action, 0, None) * self.hvac.ph + np.clip(action, None, 0) * self.hvac.pc)\n",
    "        self.temp += (((oat_current - self.temp) / self.r) + p_hvac / 3600) / self.c * self.dt\n",
    "        return self.temp\n",
    "    \n",
    "    def optimize(self, nhours):\n",
    "        \"\"\"\n",
    "        Here the house will determine the \n",
    "        optimal actions over the next n hours.\n",
    "        \"\"\"\n",
    "        \n",
    "        s_heat = cp.Variable(nhours)\n",
    "        s_cool = cp.Variable(nhours)\n",
    "        p_hvac = cp.Variable(nhours)\n",
    "        p_cons = cp.Variable(nhours)\n",
    "        temp = cp.Variable(nhours+1)\n",
    "        tmin = 20\n",
    "        tmax = 25\n",
    "        \n",
    "        obj = cp.Minimize(cp.sum(p_cons))\n",
    "        \n",
    "        oat = [self.get_current_oat(t) for t in range(self.time, self.time+nhours)]\n",
    "        cons = [\n",
    "            temp[0] == self.temp,\n",
    "            temp[1:] == self.temp + (((oat - temp[:-1]) / self.r + (p_hvac / 3600))) / self.c * self.dt,\n",
    "            p_hvac == 1000 * (s_heat * self.hvac.ph - s_cool * self.hvac.pc),\n",
    "            p_cons == s_heat / self.hvac.hspf * self.hvac.ph - self.hvac.seer * s_cool * self.hvac.pc,\n",
    "            temp[1:] >= tmin,\n",
    "            temp[1:] <= tmax,\n",
    "            s_cool <= 1,\n",
    "            s_cool >= 0,\n",
    "            s_heat <= 1,\n",
    "            s_heat >= 0\n",
    "            # there's something missing here. what is it?\n",
    "        ]\n",
    "        prob = cp.Problem(obj, cons)\n",
    "        prob.solve(verbose=False)\n",
    "        return temp.value, s_heat.value, s_cool.value"
   ]
  },
  {
   "cell_type": "code",
   "execution_count": 80,
   "metadata": {},
   "outputs": [],
   "source": [
    "ashp = HVAC(7, 26, 14, 8.2) # an airsource heatpump\n",
    "myhome = House(ashp, 7.5, 5)"
   ]
  },
  {
   "cell_type": "code",
   "execution_count": 64,
   "metadata": {},
   "outputs": [],
   "source": [
    "t_in = []\n",
    "actions = [] \n",
    "for _ in range(5):\n",
    "    action = np.random.randint(-1,1)\n",
    "    t_in += [myhome.update(action)]\n",
    "    actions += [action]"
   ]
  },
  {
   "cell_type": "code",
   "execution_count": 65,
   "metadata": {},
   "outputs": [
    {
     "data": {
      "text/plain": [
       "[<matplotlib.lines.Line2D at 0x22a15b7c6d0>]"
      ]
     },
     "execution_count": 65,
     "metadata": {},
     "output_type": "execute_result"
    },
    {
     "data": {
      "image/png": "[encoded data removed]",
      "text/plain": [
       "<Figure size 432x288 with 2 Axes>"
      ]
     },
     "metadata": {
      "needs_background": "light"
     },
     "output_type": "display_data"
    }
   ],
   "source": [
    "fig, ax = plt.subplots(2)\n",
    "ax[0].plot(t_in)\n",
    "ax[1].plot(actions)"
   ]
  },
  {
   "cell_type": "code",
   "execution_count": 81,
   "metadata": {
    "scrolled": false
   },
   "outputs": [
    {
     "data": {
      "text/plain": [
       "(array([22.        , 21.82444445, 21.83602778, 21.84215038, 21.84750996,\n",
       "        21.85160487, 21.85415968, 21.8550002 , 21.85406914, 21.85142995,\n",
       "        21.8472625 , 21.84185079, 21.83556361, 21.82882942, 21.82210716,\n",
       "        21.81585493, 21.81049881, 21.80640381, 21.803849  , 21.80300848,\n",
       "        21.80393954, 21.80657872, 21.81074617, 21.81615789, 21.82244507]),\n",
       " array([5.62960824e-09, 5.91849702e-09, 5.92456205e-09, 5.93552874e-09,\n",
       "        5.94365832e-09, 5.94870363e-09, 5.95041270e-09, 5.94870425e-09,\n",
       "        5.94365949e-09, 5.93552599e-09, 5.92472623e-09, 5.91186375e-09,\n",
       "        5.89771735e-09, 5.88321434e-09, 5.86937753e-09, 5.85724674e-09,\n",
       "        5.84778213e-09, 5.84176288e-09, 5.83969774e-09, 5.84176338e-09,\n",
       "        5.84778848e-09, 5.85704166e-09, 5.87746749e-09, 5.56622539e-09]),\n",
       " array([1., 1., 1., 1., 1., 1., 1., 1., 1., 1., 1., 1., 1., 1., 1., 1., 1.,\n",
       "        1., 1., 1., 1., 1., 1., 1.]))"
      ]
     },
     "execution_count": 81,
     "metadata": {},
     "output_type": "execute_result"
    }
   ],
   "source": [
    "myhome.optimize(24)"
   ]
  },
  {
   "cell_type": "code",
   "execution_count": null,
   "metadata": {},
   "outputs": [],
   "source": []
  }
 ],
 "metadata": {
  "kernelspec": {
   "display_name": "dragg",
   "language": "python",
   "name": "dragg"
  },
  "language_info": {
   "codemirror_mode": {
    "name": "ipython",
    "version": 3
   },
   "file_extension": ".py",
   "mimetype": "text/x-python",
   "name": "python",
   "nbconvert_exporter": "python",
   "pygments_lexer": "ipython3",
   "version": "3.10.4"
  }
 },
 "nbformat": 4,
 "nbformat_minor": 4
}

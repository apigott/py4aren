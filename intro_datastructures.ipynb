{
 "cells": [
  {
   "cell_type": "markdown",
   "metadata": {},
   "source": [
    "This notebook is an introduction to some basic datastructures. Using the right data structure makes your code easy to read, faster to run, and easier to write. "
   ]
  },
  {
   "cell_type": "code",
   "execution_count": 1,
   "metadata": {},
   "outputs": [],
   "source": [
    "import pandas as pd\n",
    "from copy import copy, deepcopy"
   ]
  },
  {
   "cell_type": "code",
   "execution_count": 2,
   "metadata": {},
   "outputs": [],
   "source": [
    "foo = {\"a\", \"b\", \"c\"} # the curly brackets denote a set. you can also use set([\"a\", \"b\", \"c\"])\n",
    "for _ in range(5):\n",
    "    foo.update({\"c\", \"d\", \"e\"})"
   ]
  },
  {
   "cell_type": "markdown",
   "metadata": {},
   "source": [
    "How many letters total are in foo now? How many times did we try to add the letters c, d, and e? "
   ]
  },
  {
   "cell_type": "code",
   "execution_count": 3,
   "metadata": {},
   "outputs": [],
   "source": [
    "bar = [\"a\", \"b\", \"c\"] # this is a list, it is always returned in the same order you specified\n",
    "baz = [\"a\", \"b\", \"c\"]\n",
    "bay = baz\n",
    "for _ in range(2):\n",
    "    bar += [\"c\", \"d\", \"e\"]\n",
    "    baz += [\"cde\"]"
   ]
  },
  {
   "cell_type": "markdown",
   "metadata": {},
   "source": [
    "What about these lists? How many letters total are in them? We assigned bay to be equal to baz at the beginning before changing anything. How many items are in bay? Note this is not specific to lists, if you assign a variable to be equal to another datastructure then the update will apply to both variables. Let's show how to fix it:"
   ]
  },
  {
   "cell_type": "code",
   "execution_count": 4,
   "metadata": {},
   "outputs": [
    {
     "data": {
      "text/plain": [
       "['a', 'b', 'c', 'cde', 'cde']"
      ]
     },
     "execution_count": 4,
     "metadata": {},
     "output_type": "execute_result"
    }
   ],
   "source": [
    "boo = copy(baz)\n",
    "baz += [\"z\"]\n",
    "boo # is \"z\" in boo?"
   ]
  },
  {
   "cell_type": "code",
   "execution_count": 10,
   "metadata": {},
   "outputs": [
    {
     "data": {
      "text/plain": [
       "'d'"
      ]
     },
     "execution_count": 10,
     "metadata": {},
     "output_type": "execute_result"
    }
   ],
   "source": [
    "alphabet = [\"a\", \"b\", \"c\", \"d\", \"e\"]\n",
    "alphabet[3] # is this the 3rd letter of the alphabet? why not?"
   ]
  },
  {
   "cell_type": "code",
   "execution_count": 11,
   "metadata": {},
   "outputs": [
    {
     "name": "stdout",
     "output_type": "stream",
     "text": [
      "The zero-ith letter of the alphabet is  a\n"
     ]
    }
   ],
   "source": [
    "print(\"The zero-ith letter of the alphabet is \", alphabet[0])"
   ]
  },
  {
   "cell_type": "code",
   "execution_count": 13,
   "metadata": {},
   "outputs": [
    {
     "data": {
      "text/plain": [
       "['e', 'd', 'c', 'b', 'a']"
      ]
     },
     "execution_count": 13,
     "metadata": {},
     "output_type": "execute_result"
    }
   ],
   "source": [
    "# here are some other indexes for lists you should try:\n",
    "alphabet[:2]\n",
    "alphabet[0:2] # this is the same as the above\n",
    "alphabet[-2:]\n",
    "alphabet[::-1]"
   ]
  },
  {
   "cell_type": "markdown",
   "metadata": {},
   "source": [
    "Dictionaries are useful because you can \"look up\" values and they don't have to be in any given order. Let's say I tell you to go to the grocery store with a list -- do you need to go down the list in order?"
   ]
  },
  {
   "cell_type": "code",
   "execution_count": 6,
   "metadata": {},
   "outputs": [
    {
     "name": "stdout",
     "output_type": "stream",
     "text": [
      "You need to buy 3 apples\n"
     ]
    }
   ],
   "source": [
    "groceries = {\"apples\":3, \"bananas\":7, \"watermelons\":1}\n",
    "print(f\"You need to buy {groceries['apples']} apples\")"
   ]
  },
  {
   "cell_type": "code",
   "execution_count": 7,
   "metadata": {},
   "outputs": [
    {
     "name": "stdout",
     "output_type": "stream",
     "text": [
      "Now here's the whole list:\n",
      "You need to buy 3 apples\n",
      "You need to buy 7 bananas\n",
      "You need to buy 1 watermelons\n"
     ]
    }
   ],
   "source": [
    "print(\"Now here's the whole list:\")\n",
    "for key, value in groceries.items():\n",
    "    print(f\"You need to buy {value} {key}\")"
   ]
  },
  {
   "cell_type": "markdown",
   "metadata": {},
   "source": [
    "DataFrames are very useful objects that act a lot like excel tables. They're nice to format, easy to filter, and can handle really large data sets."
   ]
  },
  {
   "cell_type": "code",
   "execution_count": 8,
   "metadata": {},
   "outputs": [
    {
     "data": {
      "text/html": [
       "<div>\n",
       "<style scoped>\n",
       "    .dataframe tbody tr th:only-of-type {\n",
       "        vertical-align: middle;\n",
       "    }\n",
       "\n",
       "    .dataframe tbody tr th {\n",
       "        vertical-align: top;\n",
       "    }\n",
       "\n",
       "    .dataframe thead th {\n",
       "        text-align: right;\n",
       "    }\n",
       "</style>\n",
       "<table border=\"1\" class=\"dataframe\">\n",
       "  <thead>\n",
       "    <tr style=\"text-align: right;\">\n",
       "      <th></th>\n",
       "      <th>produce</th>\n",
       "      <th>cost</th>\n",
       "      <th>lbs</th>\n",
       "      <th>is_favorite</th>\n",
       "    </tr>\n",
       "  </thead>\n",
       "  <tbody>\n",
       "    <tr>\n",
       "      <th>0</th>\n",
       "      <td>apples</td>\n",
       "      <td>2.0</td>\n",
       "      <td>4</td>\n",
       "      <td>True</td>\n",
       "    </tr>\n",
       "    <tr>\n",
       "      <th>1</th>\n",
       "      <td>banana</td>\n",
       "      <td>0.1</td>\n",
       "      <td>10</td>\n",
       "      <td>True</td>\n",
       "    </tr>\n",
       "    <tr>\n",
       "      <th>2</th>\n",
       "      <td>oranges</td>\n",
       "      <td>0.5</td>\n",
       "      <td>6</td>\n",
       "      <td>False</td>\n",
       "    </tr>\n",
       "  </tbody>\n",
       "</table>\n",
       "</div>"
      ],
      "text/plain": [
       "   produce  cost  lbs  is_favorite\n",
       "0   apples   2.0    4         True\n",
       "1   banana   0.1   10         True\n",
       "2  oranges   0.5    6        False"
      ]
     },
     "execution_count": 8,
     "metadata": {},
     "output_type": "execute_result"
    }
   ],
   "source": [
    "# The format is {\"column header\":[column, data, here]}.\n",
    "groceries = pd.DataFrame({\"produce\":[\"apples\", \"banana\", \"oranges\"], \"cost\":[2.00, 0.10, 0.50], \"lbs\":[4,10,6], \"is_favorite\":[True, True, False]})\n",
    "\n",
    "groceries"
   ]
  },
  {
   "cell_type": "code",
   "execution_count": 9,
   "metadata": {},
   "outputs": [
    {
     "name": "stdout",
     "output_type": "stream",
     "text": [
      "The total cost of produce is $  12.0\n",
      "If we only buy our favorite produce $ 9.0\n"
     ]
    }
   ],
   "source": [
    "# now we can do math with the columns -- store the answer in a new col.\n",
    "groceries[\"total_cost\"] = groceries[\"cost\"]*groceries[\"lbs\"]\n",
    "\n",
    "# and add the total of our new column \"total cost\"\n",
    "print(\"The total cost of produce is $ \", groceries[\"total_cost\"].sum())\n",
    "\n",
    "# and now we have cool True/False filters\n",
    "fil = (groceries[\"is_favorite\"] == True)\n",
    "print(\"If we only buy our favorite produce $\", groceries[\"total_cost\"].loc[fil].sum())"
   ]
  },
  {
   "cell_type": "code",
   "execution_count": null,
   "metadata": {},
   "outputs": [],
   "source": []
  }
 ],
 "metadata": {
  "kernelspec": {
   "display_name": "dragg",
   "language": "python",
   "name": "dragg"
  },
  "language_info": {
   "codemirror_mode": {
    "name": "ipython",
    "version": 3
   },
   "file_extension": ".py",
   "mimetype": "text/x-python",
   "name": "python",
   "nbconvert_exporter": "python",
   "pygments_lexer": "ipython3",
   "version": "3.10.4"
  }
 },
 "nbformat": 4,
 "nbformat_minor": 4
}

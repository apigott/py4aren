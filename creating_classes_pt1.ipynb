{
 "cells": [
  {
   "cell_type": "markdown",
   "metadata": {},
   "source": [
    "Here's a very simple example of making a class definition. It's a template for how you would like to store some information and maybe some relevant functions."
   ]
  },
  {
   "cell_type": "code",
   "execution_count": 1,
   "metadata": {},
   "outputs": [],
   "source": [
    "import datetime as dt # if this throws an error look at basic_imports for help"
   ]
  },
  {
   "cell_type": "code",
   "execution_count": 2,
   "metadata": {},
   "outputs": [],
   "source": [
    "# it's good practice (easy to read) if you make a seperate cell with the definition\n",
    "class Pet:\n",
    "    def __init__(self, petName, petSpecies, petAge):\n",
    "        self.name = petName\n",
    "        self.species = petSpecies\n",
    "        self.age = petAge\n",
    "        self.last_fed = None\n",
    "        \n",
    "    def introduce(self):\n",
    "        print(\"My pet\", self.name, \"is a\", self.species, \"and is\", self.age, \"years old.\")\n",
    "        \n",
    "    def feed(self):\n",
    "        self.last_fed = dt.datetime.now()\n",
    "        \n",
    "    def is_hungry(self):\n",
    "        if self.last_fed:\n",
    "            print(f\"{self.name} was last fed at {self.last_fed.time()} on {self.last_fed.date()}.\")\n",
    "        # i never wrote out a definition for self.last_fed.time() -- does it still work?\n",
    "        # if so where is it defined as a function?\n",
    "        else:\n",
    "            # what type is self.last_fed if the code runs this segment?\n",
    "            print(f\"{self.name} has never been fed!!! He's probably hungry!!!\")"
   ]
  },
  {
   "cell_type": "code",
   "execution_count": 3,
   "metadata": {},
   "outputs": [],
   "source": [
    "# in a new cell is where we make instances of the object\n",
    "marbs = Pet(\"Marbles\", \"cat\", 12)\n",
    "cimmi = Pet(\"Cimmi\", \"horse\", 13)\n",
    "blue = Pet(\"Blue\", \"bunny\", 6)"
   ]
  },
  {
   "cell_type": "code",
   "execution_count": 4,
   "metadata": {},
   "outputs": [
    {
     "name": "stdout",
     "output_type": "stream",
     "text": [
      "Blue has never been fed!!! He's probably hungry!!!\n",
      "Blue was last fed at 16:53:06.841226 on 2022-08-17.\n"
     ]
    }
   ],
   "source": [
    "blue.is_hungry()\n",
    "blue.feed()\n",
    "blue.is_hungry()"
   ]
  },
  {
   "cell_type": "code",
   "execution_count": null,
   "metadata": {},
   "outputs": [],
   "source": []
  }
 ],
 "metadata": {
  "kernelspec": {
   "display_name": "dragg",
   "language": "python",
   "name": "dragg"
  },
  "language_info": {
   "codemirror_mode": {
    "name": "ipython",
    "version": 3
   },
   "file_extension": ".py",
   "mimetype": "text/x-python",
   "name": "python",
   "nbconvert_exporter": "python",
   "pygments_lexer": "ipython3",
   "version": "3.10.4"
  }
 },
 "nbformat": 4,
 "nbformat_minor": 4
}

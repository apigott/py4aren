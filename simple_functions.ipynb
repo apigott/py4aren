{
 "cells": [
  {
   "cell_type": "code",
   "execution_count": 3,
   "metadata": {},
   "outputs": [
    {
     "data": {
      "text/plain": [
       "7"
      ]
     },
     "execution_count": 3,
     "metadata": {},
     "output_type": "execute_result"
    }
   ],
   "source": [
    "def addFive(x): # adds 5 to a number\n",
    "    y = x + 5\n",
    "    return y\n",
    "myAns = addFive(2)\n",
    "myAns # calling an object but not doing anything to will show the result in the output cell"
   ]
  },
  {
   "cell_type": "code",
   "execution_count": 1,
   "metadata": {
    "scrolled": true
   },
   "outputs": [
    {
     "name": "stdout",
     "output_type": "stream",
     "text": [
      "2\n",
      "3\n",
      "5\n",
      "8\n",
      "13\n"
     ]
    }
   ],
   "source": [
    "def addNumbers(x,y): # adds two numbers\n",
    "    z = x + y\n",
    "    return z\n",
    "prev_values = [1,1]\n",
    "for _ in range(5): # since we aren't using the index anywhere using _ as a variable name is perfectly valid\n",
    "    myAns = addNumbers(prev_values[0], prev_values[1])\n",
    "    print(myAns) # you can print it if you wanted to use that information to debug the code\n",
    "    prev_values = [prev_values[1], myAns]\n",
    "    \n",
    "# what does this code do (hint: \"the ______ sequence\")"
   ]
  },
  {
   "cell_type": "code",
   "execution_count": 2,
   "metadata": {},
   "outputs": [
    {
     "name": "stdout",
     "output_type": "stream",
     "text": [
      "9\n",
      "27\n"
     ]
    }
   ],
   "source": [
    "def exponential(x,y=2): # raises x to the y-th power. y defaults to 2\n",
    "    z = x**y # note: ** is the exponential notation for Python\n",
    "    return z\n",
    "myAns = exponential(3)\n",
    "print(myAns) # would print ‘9’\n",
    "\n",
    "myAns = exponential(3,3) # note that we overwrite the previous answer\n",
    "print(myAns) # would print ‘27’"
   ]
  },
  {
   "cell_type": "code",
   "execution_count": null,
   "metadata": {},
   "outputs": [],
   "source": []
  }
 ],
 "metadata": {
  "kernelspec": {
   "display_name": "dragg",
   "language": "python",
   "name": "dragg"
  },
  "language_info": {
   "codemirror_mode": {
    "name": "ipython",
    "version": 3
   },
   "file_extension": ".py",
   "mimetype": "text/x-python",
   "name": "python",
   "nbconvert_exporter": "python",
   "pygments_lexer": "ipython3",
   "version": "3.10.4"
  }
 },
 "nbformat": 4,
 "nbformat_minor": 4
}

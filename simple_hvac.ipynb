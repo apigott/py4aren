{
 "cells": [
  {
   "cell_type": "code",
   "execution_count": 1,
   "id": "3d305973",
   "metadata": {},
   "outputs": [],
   "source": [
    "import cvxpy as cp\n",
    "import matplotlib.pyplot as plt\n",
    "import pandas as pd\n",
    "\n",
    "nsrdb = pd.read_csv(\"data/nsrdb.csv\", skiprows=2)\n",
    "\n",
    "# start_time = 8500 # summer\n",
    "start_time = 0 # winter\n",
    "\n",
    "nhours = 24\n",
    "dt = 0.5\n",
    "h = int(24 / dt)\n",
    "\n",
    "# link for 0.293 number convert SEER to COP\n",
    "# https://www.russellshvac.com/2011/09/15/hspf-compare-the-ratings-when-youre-going-to-a-heat-pump-system\n",
    "# 12.000 BTUs equal to 1 ton. That means that a 3-ton heat pump can remove 36.000 BTUs of air every hour.\n",
    "# Such a heat pump needs 7.200 startup watts and 5.400 running watts.\n",
    "pcool = 3.5 * 1000 * 2 # thermal [3.5 kW/ton * W/kW * tons] [kW]\n",
    "pheat = 15 * 0.293 * 1000 # [kW] [15 kBtu * KBtu/kW * W/kW]\n",
    "\n",
    "cop2hspf = 0.293\n",
    "cop_heating = 8.2 * 0.293 # kW / kW # hspf = 8.2 kBtu/kW --> conversion -> COP = 0.293*hspf = [kW/kW]\n",
    "cop_cooling = 20 * 0.293 # kW / kW # seer = 20 kBtu/kW --> conversion -> COP = 0.293*hspf = [kW/kW]\n",
    "\n",
    "r = 1/60 # w/k\n",
    "c = 1.5*1e7 # J/k\n",
    "k = 1.3 # equivalent window area m^2 shgc ~= 0.3 (AZ) --> shgc * approx real window area\n",
    "\n",
    "# state space matrix\n",
    "b = [1/(r*c), k/c, 1/c]\n",
    "\n",
    "\n",
    " \n",
    "ghi = cp.Constant(nsrdb[\"GHI\"].loc[start_time:start_time+h-1])\n",
    "tout = cp.Constant(nsrdb[\"Temperature\"].loc[start_time:start_time+h-1])"
   ]
  },
  {
   "cell_type": "code",
   "execution_count": 2,
   "id": "70f2059d",
   "metadata": {},
   "outputs": [
    {
     "name": "stdout",
     "output_type": "stream",
     "text": [
      "Set parameter Username\n",
      "Academic license - for non-commercial use only - expires 2023-07-03\n"
     ]
    },
    {
     "data": {
      "text/plain": [
       "9.146341463414636"
      ]
     },
     "execution_count": 2,
     "metadata": {},
     "output_type": "execute_result"
    }
   ],
   "source": [
    "tinit=22 # approx 72 deg F\n",
    "tin = cp.Variable(h+1) # creates a variable that is h timesteps + 1 long -- can you see why it needs to be '+1' long?\n",
    "pelec = cp.Variable(h) # is h long\n",
    "sc = cp.Variable(h, integer=True) # these variables can only be integers -- that's how we represent 'on' OR 'off'\n",
    "sh = cp.Variable(h, integer=True)\n",
    "\n",
    "cons = [tin[0] == tinit,\n",
    "        tin[1:] == tin[:-1] + (b[0]*(tout-tin[:-1]) + b[1]*ghi - b[2]*sc*pcool + b[2]*sh*pheat)*3600*dt,\n",
    "        tin <= 25,\n",
    "        tin >= 20,\n",
    "        sc <= 1,\n",
    "        sc >= 0,\n",
    "        sh <= 1,\n",
    "        sh >= 0,\n",
    "        # pcool [W] / COP [kW/kW] * sc [% on/off] + pheat [W] / COP [kW/kW] * sc [% on/off] / 1000 [kW/W]\n",
    "        pelec == (pcool / cop_cooling * sc + pheat / cop_heating  * sh) / 1000] # p_th -> p_elec /1000 for kW\n",
    "obj = cp.Minimize(cp.sum(pelec))\n",
    "\n",
    "prob = cp.Problem(obj, cons)\n",
    "prob.solve()"
   ]
  },
  {
   "cell_type": "code",
   "execution_count": 3,
   "id": "f5d2b8fe",
   "metadata": {},
   "outputs": [
    {
     "data": {
      "text/plain": [
       "<matplotlib.legend.Legend at 0x7fb2f59d5f30>"
      ]
     },
     "execution_count": 3,
     "metadata": {},
     "output_type": "execute_result"
    },
    {
     "data": {
      "image/png": "[encoded data removed]",
      "text/plain": [
       "<Figure size 432x288 with 1 Axes>"
      ]
     },
     "metadata": {
      "needs_background": "light"
     },
     "output_type": "display_data"
    }
   ],
   "source": [
    "plt.plot(sc.value, label=\"S_cooling\")\n",
    "plt.plot(sh.value, label=\"S_heating\")\n",
    "plt.plot(tin.value, label=\"T_interior\")\n",
    "plt.plot(tout.value, label=\"T_outside\")\n",
    "plt.legend()"
   ]
  },
  {
   "cell_type": "code",
   "execution_count": 4,
   "id": "36d0bcd1",
   "metadata": {},
   "outputs": [
    {
     "ename": "TypeError",
     "evalue": "'int' object is not iterable",
     "output_type": "error",
     "traceback": [
      "\u001b[0;31m---------------------------------------------------------------------------\u001b[0m",
      "\u001b[0;31mTypeError\u001b[0m                                 Traceback (most recent call last)",
      "Input \u001b[0;32mIn [4]\u001b[0m, in \u001b[0;36m<cell line: 3>\u001b[0;34m()\u001b[0m\n\u001b[1;32m      1\u001b[0m \u001b[38;5;66;03m# challenge, create an MPC optimization that runs for a week\u001b[39;00m\n\u001b[1;32m      2\u001b[0m ntimesteps \u001b[38;5;241m=\u001b[39m \u001b[38;5;28mint\u001b[39m(\u001b[38;5;241m7\u001b[39m \u001b[38;5;241m*\u001b[39m \u001b[38;5;241m24\u001b[39m \u001b[38;5;241m/\u001b[39m dt)\n\u001b[0;32m----> 3\u001b[0m \u001b[38;5;28;01mfor\u001b[39;00m _ \u001b[38;5;129;01min\u001b[39;00m ntimesteps:\n\u001b[1;32m      4\u001b[0m     \u001b[38;5;28;01mpass\u001b[39;00m\n",
      "\u001b[0;31mTypeError\u001b[0m: 'int' object is not iterable"
     ]
    }
   ],
   "source": [
    "# challenge, create an MPC optimization that runs for a week\n",
    "ntimesteps = int(7 * 24 / dt)\n",
    "for _ in range(ntimesteps):\n",
    "    start_time += 1"
   ]
  }
 ],
 "metadata": {
  "kernelspec": {
   "display_name": "Python 3 (ipykernel)",
   "language": "python",
   "name": "python3"
  },
  "language_info": {
   "codemirror_mode": {
    "name": "ipython",
    "version": 3
   },
   "file_extension": ".py",
   "mimetype": "text/x-python",
   "name": "python",
   "nbconvert_exporter": "python",
   "pygments_lexer": "ipython3",
   "version": "3.10.4"
  }
 },
 "nbformat": 4,
 "nbformat_minor": 5
}
